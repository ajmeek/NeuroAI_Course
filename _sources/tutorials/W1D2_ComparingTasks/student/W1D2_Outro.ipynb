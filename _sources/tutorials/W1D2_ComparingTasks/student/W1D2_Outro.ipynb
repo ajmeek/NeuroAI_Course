{
 "cells": [
  {
   "cell_type": "markdown",
   "id": "7fd26cc5-d74e-425a-b58f-117b92575e62",
   "metadata": {
    "cellView": "form",
    "execution": {}
   },
   "source": [
    "# W1D2 Outro"
   ]
  }
 ],
 "metadata": {
  "colab": {
   "collapsed_sections": [],
   "include_colab_link": true,
   "name": "W1D2_Outro",
   "toc_visible": true
  },
  "kernel": {
   "display_name": "Python 3",
   "language": "python",
   "name": "python3"
  },
  "kernelspec": {
   "display_name": "Python 3 (ipykernel)",
   "language": "python",
   "name": "python3"
  },
  "language_info": {
   "codemirror_mode": {
    "name": "ipython",
    "version": 3
   },
   "file_extension": ".py",
   "mimetype": "text/x-python",
   "name": "python",
   "nbconvert_exporter": "python",
   "pygments_lexer": "ipython3",
   "version": "3.9.19"
  }
 },
 "nbformat": 4,
 "nbformat_minor": 5
}