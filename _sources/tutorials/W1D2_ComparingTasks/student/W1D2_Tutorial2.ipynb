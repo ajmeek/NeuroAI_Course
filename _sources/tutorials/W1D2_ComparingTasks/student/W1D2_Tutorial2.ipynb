{
 "cells": [
  {
   "cell_type": "markdown",
   "id": "6221f0d3-4a18-416b-b548-3d9a5b82dedf",
   "metadata": {
    "execution": {}
   },
   "source": [
    "# Tutorial 2: Contrastive learning for object recognition\n",
    "\n",
    "**Week 1, Day 2: Comparing Tasks**\n",
    "\n",
    "**By Neuromatch Academy**\n",
    "\n",
    "__Content creators:__ Andrew F. Luo, Leila Wehbe\n",
    "\n",
    "__Content reviewers:__ Names & Surnames\n",
    "\n",
    "__Production editors:__ Names & Surnames\n",
    "\n",
    "<br>\n",
    "\n",
    "Acknowledgments: [ACKNOWLEDGMENT_INFORMATION]\n"
   ]
  },
  {
   "cell_type": "markdown",
   "id": "2734dc52-6dc9-4669-a7c7-99ef87e47b8b",
   "metadata": {
    "execution": {}
   },
   "source": [
    "___\n",
    "\n",
    "\n",
    "# Tutorial Objectives\n",
    "\n",
    "*Estimated timing of tutorial: 20 minutes*\n",
    "\n",
    "By the end of this tutorial, participants will be able to:\n",
    "1. Understand why we want to do contrastive learning.\n",
    "2. Understand the losses in contrastive learning.\n",
    "3. Run an example on contrastive learning using MNIST.\n",
    "\n"
   ]
  },
  {
   "cell_type": "markdown",
   "metadata": {},
   "source": [
    "\n"
   ]
  },
  {
   "cell_type": "code",
   "execution_count": null,
   "id": "aceddeef-ea13-4224-8ca8-70563edbcf00",
   "metadata": {
    "cellView": "form",
    "execution": {},
    "tags": [
     "remove-input"
    ]
   },
   "outputs": [],
   "source": [
    "# @markdown\n",
    "from IPython.display import IFrame\n",
    "from ipywidgets import widgets\n",
    "out = widgets.Output()\n",
    "with out:\n",
    "    print(f\"If you want to download the slides: https://osf.io/download//\")\n",
    "    display(IFrame(src=f\"https://mfr.ca-1.osf.io/render?url=https://osf.io//?direct%26mode=render%26action=download%26mode=render\", width=730, height=410))\n",
    "display(out)"
   ]
  },
  {
   "cell_type": "markdown",
   "id": "273ae64d-bc44-4e0e-b077-487da8391334",
   "metadata": {
    "execution": {}
   },
   "source": [
    "---\n",
    "# Setup\n",
    "\n"
   ]
  },
  {
   "cell_type": "markdown",
   "metadata": {},
   "source": [
    "##  Install and import feedback gadget\n"
   ]
  },
  {
   "cell_type": "code",
   "execution_count": null,
   "id": "ec851343-ee02-4f52-85da-a361297a5188",
   "metadata": {
    "cellView": "form",
    "execution": {},
    "tags": [
     "hide-input"
    ]
   },
   "outputs": [],
   "source": [
    "# @title Install and import feedback gadget\n",
    "\n",
    "# !pip3 install vibecheck datatops --quiet\n",
    "\n",
    "# from vibecheck import DatatopsContentReviewContainer\n",
    "# def content_review(notebook_section: str):\n",
    "#     return DatatopsContentReviewContainer(\n",
    "#         \"\",  # No text prompt - leave this as is\n",
    "#         notebook_section,\n",
    "#         {\n",
    "#             \"url\": \"https://pmyvdlilci.execute-api.us-east-1.amazonaws.com/klab\",\n",
    "#             \"name\": \"sciencematch_sm\", # change the name of the course : neuromatch_dl, climatematch_ct, etc\n",
    "#             \"user_key\": \"y1x3mpx5\",\n",
    "#         },\n",
    "#     ).render()\n",
    "\n",
    "# feedback_prefix = \"W1D2_T1\""
   ]
  },
  {
   "cell_type": "markdown",
   "metadata": {},
   "source": [
    "##  Install dependencies\n"
   ]
  },
  {
   "cell_type": "markdown",
   "metadata": {},
   "source": [
    "\n"
   ]
  },
  {
   "cell_type": "code",
   "execution_count": null,
   "id": "f3eeb07c-5de3-428e-a422-3a58f1124b43",
   "metadata": {
    "cellView": "form",
    "execution": {},
    "tags": [
     "hide-input"
    ]
   },
   "outputs": [],
   "source": [
    "# @title Install dependencies\n",
    "# @markdown\n",
    "\n",
    "!pip install numpy matplotlib torch torchvision tqdm ipysankeywidget ipywidgets"
   ]
  },
  {
   "cell_type": "markdown",
   "metadata": {},
   "source": [
    "##  Import dependencies\n"
   ]
  },
  {
   "cell_type": "markdown",
   "metadata": {},
   "source": [
    "\n"
   ]
  },
  {
   "cell_type": "code",
   "execution_count": null,
   "id": "b56685b9-3f17-4a55-acca-73dad5623992",
   "metadata": {
    "cellView": "form",
    "execution": {},
    "tags": [
     "hide-input"
    ]
   },
   "outputs": [],
   "source": [
    "# @title Import dependencies\n",
    "# @markdown\n",
    "\n",
    "import torch\n",
    "import numpy as np\n",
    "import matplotlib.pyplot as plt\n",
    "import torchvision\n",
    "import torch.nn as nn\n",
    "import torch.nn.functional as F\n",
    "from torch.utils.data import DataLoader\n",
    "torch.backends.cuda.matmul.allow_tf32 = True\n",
    "torch.backends.cudnn.allow_tf32 = True\n",
    "\n",
    "from sklearn.decomposition import PCA\n",
    "from sklearn.manifold import TSNE\n",
    "\n",
    "# Set up logging\n",
    "import logging\n",
    "import gc"
   ]
  },
  {
   "cell_type": "markdown",
   "metadata": {},
   "source": [
    "##  Figure settings\n"
   ]
  },
  {
   "cell_type": "markdown",
   "metadata": {},
   "source": [
    "\n"
   ]
  },
  {
   "cell_type": "code",
   "execution_count": null,
   "id": "cebc5798-a8dd-4985-b0ec-d5facf4ee700",
   "metadata": {
    "cellView": "form",
    "execution": {},
    "tags": [
     "hide-input"
    ]
   },
   "outputs": [],
   "source": [
    "# @title Figure settings\n",
    "# @markdown\n",
    "\n",
    "logging.getLogger('matplotlib.font_manager').disabled = True\n",
    "\n",
    "%matplotlib inline\n",
    "%config InlineBackend.figure_format = 'retina' # perform high definition rendering for images and plots\n",
    "plt.style.use(\"https://raw.githubusercontent.com/NeuromatchAcademy/course-content/main/nma.mplstyle\")"
   ]
  },
  {
   "cell_type": "markdown",
   "metadata": {},
   "source": [
    "##  Plotting functions\n"
   ]
  },
  {
   "cell_type": "code",
   "execution_count": null,
   "id": "598cc45f-c4b7-406c-a80b-6adfae387583",
   "metadata": {
    "cellView": "form",
    "execution": {},
    "tags": [
     "hide-input"
    ]
   },
   "outputs": [],
   "source": [
    "# @title Plotting functions\n",
    "# @markdown"
   ]
  },
  {
   "cell_type": "markdown",
   "metadata": {},
   "source": [
    "##  Helper functions\n"
   ]
  },
  {
   "cell_type": "code",
   "execution_count": null,
   "id": "386b49a0-9409-496a-8656-579ca3e4af5f",
   "metadata": {
    "cellView": "form",
    "execution": {},
    "tags": [
     "hide-input"
    ]
   },
   "outputs": [],
   "source": [
    "#@title Helper functions\n",
    "# @markdown"
   ]
  },
  {
   "cell_type": "markdown",
   "id": "pIBjtdIDeeVg",
   "metadata": {
    "execution": {}
   },
   "source": [
    "## Overview of the tutorial\n",
    "\n",
    "To begin, we will start by importing all the necessary packages that we'll need throughout our session. This initial step ensures that all the tools and functions required for our computations are readily available.\n",
    "\n",
    "### Speeding up training and inference.\n",
    "\n",
    "Next, let's discuss the 'allow tf32' settings in PyTorch, which are designed to enhance computational speed at the expense of precision. This setting is particularly relevant for operations involving tensors. PyTorch automatically enables this for CuDNN-based convolution operations to accelerate processing times. However, it's important to note that for matrix multiplication tasks, this option remains disabled by default to maintain higher numerical precision.\n",
    "\n",
    "### Analysis of the results\n",
    "\n",
    "As we move forward, we'll employ PCA (Principal Component Analysis) and t-SNE (t-Distributed Stochastic Neighbor Embedding) as our primary tools for visualizing data. These techniques are instrumental in reducing the dimensionality of the data, allowing us to observe patterns and relationships that are otherwise difficult to discern in high-dimensional spaces. By visualizing data in this way, we can gain insightful perspectives that are crucial for understanding complex datasets."
   ]
  },
  {
   "cell_type": "markdown",
   "id": "bb74907a-f462-4acf-835d-340a899a3663",
   "metadata": {
    "execution": {}
   },
   "source": [
    "### What is contrastive learning?\n",
    "\n",
    "Contrastive learning is often referred to as \"self-supervised learning (SSL)\" and has historically been known as \"metric learning.\" The essence of contrastive/metric learning is that instead of outputting a classification one-hot/softmax vector, or a regression value, you directly output a high-dimensional embedding.\n",
    "\n",
    "Here is an example: Given multiple data points from a single class (for example, three photos of you from different viewpoints) and different classes (for example, 10 photos from one or multiple people who are not you), you want the three embeddings from your photos to be closer to each other while being farther away from the ten embeddings from the different classes.\n",
    "\n",
    "Hence the name \"metric learning,\" where you seek to learn a metric/distance that fits the constraints of the data.\n",
    "\n",
    "\n",
    "### Why contrastive learning?\n",
    "\n",
    "It may not be immediately obvious why you would want to engage in contrastive/metric learning. Can't you just use a giant 1000-class ImageNet-trained classifier and recognize every image? However, metric learning proves useful when the number of classes is not known ahead of time. For example, if I wanted a network to recognize human faces, there are 7 billion people on this planet, which makes it impossible for you to train a classification network with 7 billion output neurons. Nevertheless, I can train a network that outputs a high-dimensional embedding for each image. Now, given a reference image of a person, your network can decide if the new photo is close to or farther away from the reference image.\n",
    "\n",
    "\n",
    "### Terms defined and other stuff\n",
    "\n",
    "* Positive pair—This refers to two data points that should be close together in embedding space. For example, two photos of you in different lighting conditions.\n",
    "* Negative pair—This refers to two data points that should be far apart in embedding space. For example, a photo of you versus a photo of a dog (assuming you are not a dog). Note that positive pairs/negative pairs don't have to be images. You could have a picture and the matching text be a positive pair as well. Recent work has also moved to positive pairs defined using an older version of the encoder (Google Momentum contrast or EMA contrastive).\n",
    "* Pretext task—In computer vision, this refers to how you augment images to get positive pairs.\n",
    "Hard positive/negative mining—This refers to a practice where positive/negative pairs where the network struggles are used to train the network with more loss in some way.\n",
    "* InfoNCE—This is one of the most common contrastive losses [1,2,3,4], which was proposed in similar ways multiple times by different authors. It is a cross-entropy loss of classifying the correct positive pair out from a pool of pairs. Note there are variants like MIL-NCE, which allow for multiple positive pairs."
   ]
  },
  {
   "cell_type": "markdown",
   "id": "AJoELbcmeO_n",
   "metadata": {
    "execution": {}
   },
   "source": [
    "## Getting Started\n",
    "\n",
    "First, we'll start by outlining the network blocks that we plan to incorporate into our model. This involves defining each component as a class in PyTorch, which requires inheriting from the torch.nn.Module class. It's crucial to remember that after defining your class, you must initialize it properly by calling super().__init__(). This step is essential as it ensures that all network sub-modules are registered correctly. Additionally, PyTorch provides several useful functions such as ModuleList, register_parameter, register_module, and register_buffer to help manage these components effectively.\n",
    "\n",
    "### Mini residual block\n",
    "\n",
    "Our initial focus will be on creating a mini_residual block. This block adopts a modern approach to the residual design, featuring a prenormalization step as suggested by Kaiming He. We will also incorporate the LeakyReLU activation function. LeakyReLU is particularly favored in generative adversarial networks (GANs) due to its ability to maintain non-zero gradients, which helps in the training process by avoiding the vanishing gradient problem.\n",
    "\n",
    "### Full model construction\n",
    "\n",
    "Following the mini_residual block, we will construct the full model. This model will consist of a series of residual blocks stacked together. In PyTorch, the components of a model are organized in a sequence using nn.Sequential, which executes the blocks from the first to the last. This sequential arrangement simplifies the process of defining forward pass operations, ensuring that data flows through the blocks in the intended order. By stacking these blocks, the model can learn complex patterns from the data, enhancing its predictive performance."
   ]
  },
  {
   "cell_type": "code",
   "execution_count": null,
   "id": "d7c432bf-1de5-43f6-b887-087d17e9ec0f",
   "metadata": {
    "execution": {}
   },
   "outputs": [],
   "source": [
    "class mini_residual(nn.Module):\n",
    "    # Follows \"Identity Mappings in Deep Residual Networks\", uses layernorm instead of batchnorm, uses leakyReLU instead of ReLU\n",
    "    def __init__(self, feat_in=128, feat_out=128, feat_hidden=256, use_norm=True):\n",
    "        super().__init__()\n",
    "        if use_norm:\n",
    "            self.block = nn.Sequential(nn.LayerNorm(feat_in), nn.LeakyReLU(negative_slope=0.1),\n",
    "                                      nn.Linear(feat_in, feat_hidden), nn.LayerNorm(feat_hidden),\n",
    "                                      nn.LeakyReLU(negative_slope=0.1), nn.Linear(feat_hidden, feat_out))\n",
    "        else:\n",
    "            self.block = nn.Sequential(nn.LeakyReLU(negative_slope=0.1),nn.Linear(feat_in, feat_hidden),\n",
    "                                      nn.LeakyReLU(negative_slope=0.1), nn.Linear(feat_hidden, feat_out))\n",
    "        if feat_in!=feat_out:\n",
    "            self.bypass = nn.Linear(feat_in, feat_out)\n",
    "        else:\n",
    "            self.bypass = nn.Identity()\n",
    "\n",
    "    def forward(self, input_data):\n",
    "        return self.block(input_data) + self.bypass(input_data)\n",
    "\n",
    "\n",
    "class Model(nn.Module):\n",
    "    def __init__(self, in_dim, out_dim, hidden_dim, num_blocks=4):\n",
    "        super().__init__()\n",
    "        self.in_proj = nn.Linear(in_dim, hidden_dim)\n",
    "        self.hidden = nn.Sequential(*[mini_residual(feat_in=hidden_dim, feat_out=hidden_dim, feat_hidden=hidden_dim) for i in range(num_blocks)])\n",
    "        self.out = nn.Linear(hidden_dim, out_dim)\n",
    "\n",
    "    def forward(self, x):\n",
    "        in_proj_out = self.in_proj(x)\n",
    "        hidden_out = self.hidden(in_proj_out)\n",
    "        return self.out(hidden_out)"
   ]
  },
  {
   "cell_type": "markdown",
   "id": "C29eZ1BkfuIr",
   "metadata": {
    "execution": {}
   },
   "source": [
    "Now, let's move on to defining the loss function for our model, using an approach extracted from the PyTorch metric learning package for better clarity. We will be implementing a variant of the InfoNCE loss function, which is widely recognized as one of the most effective contrastive or metric learning losses. It has been prominently used in various models, including OpenAI's CLIP, due to its ability to enhance feature discrimination by contrasting positive pairs against negative pairs.\n",
    "\n",
    "InfoNCE typically requires substantial batch sizes—commonly 128 or even larger—to perform optimally. This requirement is due to the need for diverse negative samples in the batch to effectively learn the contrasts. However, large batch sizes can be impractical in resource-constrained settings or when data availability is limited.\n",
    "\n",
    "To address this, we will implement a modified version of InfoNCE as described in the \"Decoupled Contrastive Learning\" paper. This variant adapts the loss to be more suitable for smaller batch sizes by modifying the denominator of the InfoNCE formula. Specifically, it removes the positive example from the denominator, which reduces the computational demand and stabilizes training when fewer examples are available. This adjustment not only makes the loss function more flexible but also maintains robustness in learning discriminative features even with smaller batch sizes."
   ]
  },
  {
   "cell_type": "code",
   "execution_count": null,
   "id": "09f70265-2738-4ec3-b07f-b1d06507cc07",
   "metadata": {
    "execution": {}
   },
   "outputs": [],
   "source": [
    "# This is code from the pytorch metric learning package\n",
    "# Extracted out so it is clear what it is doing\n",
    "\n",
    "def neg_inf(dtype):\n",
    "    return torch.finfo(dtype).min\n",
    "\n",
    "\n",
    "def small_val(dtype):\n",
    "    return torch.finfo(dtype).tiny\n",
    "\n",
    "def to_dtype(x, tensor=None, dtype=None):\n",
    "    if not torch.is_autocast_enabled():\n",
    "        dt = dtype if dtype is not None else tensor.dtype\n",
    "        if x.dtype != dt:\n",
    "            x = x.type(dt)\n",
    "    return x\n",
    "\n",
    "def get_matches_and_diffs(labels, ref_labels=None):\n",
    "    if ref_labels is None:\n",
    "        ref_labels = labels\n",
    "    labels1 = labels.unsqueeze(1)\n",
    "    labels2 = ref_labels.unsqueeze(0)\n",
    "    matches = (labels1 == labels2).byte()\n",
    "    diffs = matches ^ 1\n",
    "    if ref_labels is labels:\n",
    "        matches.fill_diagonal_(0)\n",
    "    return matches, diffs\n",
    "\n",
    "def get_all_pairs_indices(labels, ref_labels=None):\n",
    "    \"\"\"\n",
    "    Given a tensor of labels, this will return 4 tensors.\n",
    "    The first 2 tensors are the indices which form all positive pairs\n",
    "    The second 2 tensors are the indices which form all negative pairs\n",
    "    \"\"\"\n",
    "    matches, diffs = get_matches_and_diffs(labels, ref_labels)\n",
    "    a1_idx, p_idx = torch.where(matches)\n",
    "    a2_idx, n_idx = torch.where(diffs)\n",
    "    return a1_idx, p_idx, a2_idx, n_idx\n",
    "\n",
    "def cos_sim(input_embeddings):\n",
    "    # batch, dim\n",
    "    normed_embeddings = torch.nn.functional.normalize(input_embeddings, dim=-1)\n",
    "    return normed_embeddings@normed_embeddings.t()\n",
    "\n",
    "def dcl_loss(pos_pairs, neg_pairs, indices_tuple,temperature=0.07):\n",
    "    # This is the modified InfoNCE loss called \"Decoupled Contrastive Learning\" for small batch sizes\n",
    "    # Basically You remove the numerator from the sum to the denominator\n",
    "\n",
    "    a1, p, a2, _ = indices_tuple\n",
    "\n",
    "    if len(a1) > 0 and len(a2) > 0:\n",
    "        dtype = neg_pairs.dtype\n",
    "        pos_pairs = pos_pairs.unsqueeze(1) / temperature\n",
    "        neg_pairs = neg_pairs / temperature\n",
    "        n_per_p = to_dtype(a2.unsqueeze(0) == a1.unsqueeze(1), dtype=dtype)\n",
    "        neg_pairs = neg_pairs * n_per_p\n",
    "        neg_pairs[n_per_p == 0] = neg_inf(dtype)\n",
    "\n",
    "        max_val = torch.max(\n",
    "            pos_pairs, torch.max(neg_pairs, dim=1, keepdim=True)[0]\n",
    "        ).detach()\n",
    "        numerator = torch.exp(pos_pairs - max_val).squeeze(1)\n",
    "        denominator = torch.sum(torch.exp(neg_pairs - max_val), dim=1)\n",
    "        log_exp = torch.log((numerator / denominator) + small_val(dtype))\n",
    "        return -log_exp\n",
    "    return 0\n",
    "\n",
    "def pair_based_loss(mat, indices_tuple, lossfunc):\n",
    "    a1, p, a2, n = indices_tuple\n",
    "    pos_pair, neg_pair = [], []\n",
    "    if len(a1) > 0:\n",
    "        pos_pair = mat[a1, p]\n",
    "    if len(a2) > 0:\n",
    "        neg_pair = mat[a2, n]\n",
    "    return lossfunc(pos_pair, neg_pair, indices_tuple)\n",
    "\n",
    "# dummy_labels = torch.from_numpy(np.array([1,1,2,3,2,4]))\n",
    "# demo_matches, demo_diffs = get_matches_and_diffs(labels=dummy_labels)\n",
    "# results = get_all_pairs_indices(labels=dummy_labels)\n",
    "# final_loss = pair_based_loss(torch.randn(6,6),results, None)"
   ]
  },
  {
   "cell_type": "markdown",
   "id": "LAajOxFCgYFK",
   "metadata": {
    "execution": {}
   },
   "source": [
    "Now we will make the Pytorch dataset object, this defines how data is loaded from disk for each batch, and what transform you want to apply. Note that you do not have to use torchvision transforms. It is very common to write your own transform code in the dataset object."
   ]
  },
  {
   "cell_type": "code",
   "execution_count": null,
   "id": "d72d9231-35a5-405e-b2f6-135e134e0ae9",
   "metadata": {
    "execution": {}
   },
   "outputs": [],
   "source": [
    "mnist_transforms=torchvision.transforms.Compose([torchvision.transforms.ToTensor(), torchvision.transforms.Normalize((0.1307,), (0.3081,))])\n",
    "test_dset = torchvision.datasets.MNIST(\"./\", train=False, transform=mnist_transforms, download=True)\n",
    "\n",
    "\n",
    "height = int(784**0.5)\n",
    "width = height\n",
    "idx = 0\n",
    "data_point = test_dset[idx]\n",
    "plt.imshow(data_point[0][0].numpy())\n",
    "plt.show()\n",
    "print(data_point[1])"
   ]
  },
  {
   "cell_type": "markdown",
   "id": "CkhXcVrGhUM5",
   "metadata": {
    "execution": {}
   },
   "source": [
    "Now we will make the model using the definition we wrote previously. And we will move it to the device you want. Note that in pytorch, calling `.to(device)` on a module acts on the module itself, as in it is an inplace operation. However for pytorch tensors directly (if you don't call this function on a module) it is not inplace."
   ]
  },
  {
   "cell_type": "code",
   "execution_count": null,
   "id": "ffd3ab89-ffd9-408c-8396-25b88e0930fb",
   "metadata": {
    "execution": {}
   },
   "outputs": [],
   "source": [
    "mynet = Model(in_dim=784, out_dim=128, hidden_dim=256)\n",
    "\n",
    "# Automatically select the device\n",
    "device = torch.device(\"cuda\" if torch.cuda.is_available() else \"cpu\")\n",
    "\n",
    "# Output the device that will be used\n",
    "print(f\"Using device: {device}\")\n",
    "\n",
    "# Move the model to the selected device\n",
    "_ = mynet.to(device)"
   ]
  },
  {
   "cell_type": "markdown",
   "id": "pi1Seq52ho57",
   "metadata": {
    "execution": {}
   },
   "source": [
    "Let us create a test dataloader, and see what the untrained network gives us in terms of representations for each number. We will compute the cosine similarity for each written character WITHIN the same class (we set the diagonal to np.nan to avoid comparing a written character to itself).\n",
    "\n",
    "We will also compute the cosine similarity for each written character across the classes.\n",
    "\n",
    "You should have a habit of calling `network.eval()` before evaluating a network, this is also an inplace operation. This will tell pytorch to freeze some buffers (like in batchnorm) and disable dropout.\n",
    "\n",
    "We use `torch.inference_mode()` here, this disables gradient computation and speeds up the testing process. However this may break some features, if it fails you can replace it with `torch.no_grad()`. Note that `inference_mode` does not automatically enable `eval`!"
   ]
  },
  {
   "cell_type": "code",
   "execution_count": null,
   "id": "b2f9122b-ce83-464f-b6c9-5af2feceac62",
   "metadata": {
    "execution": {}
   },
   "outputs": [],
   "source": [
    "# First try with untrained network, find the cosine similarities within a class and across classes\n",
    "test_loader = DataLoader(test_dset, batch_size=50, shuffle=False) # enable persistent_workers=True if more than 1 worker to save CPU\n",
    "mynet.eval()\n",
    "test_embeddings = []\n",
    "test_labels = []\n",
    "sim_matrix = np.zeros((10,10))\n",
    "with torch.inference_mode():\n",
    "    for data_batch in test_loader:\n",
    "        test_img, test_label = data_batch\n",
    "        batch_size = test_img.shape[0]\n",
    "        flat = test_img.reshape(batch_size,-1).to(device, non_blocking=True)\n",
    "        pred_embeddings = mynet(flat).cpu().numpy().tolist()\n",
    "        test_embeddings.extend(pred_embeddings)\n",
    "        test_labels.extend(test_label.numpy().tolist())\n",
    "\n",
    "test_embeddings = np.array(test_embeddings)\n",
    "test_embeddings_normed = test_embeddings/np.linalg.norm(test_embeddings, axis=1, keepdims=True)\n",
    "test_labels = np.array(test_labels)"
   ]
  },
  {
   "cell_type": "markdown",
   "id": "GtbiyBRmi-e2",
   "metadata": {
    "execution": {}
   },
   "source": [
    "### Visualizing the cosine similarity of embeddings within the same class and across different classes before training\n",
    "\n",
    "Ideally, you should see a very high cosine similarity for images within the same class (the diagonal), but very low cosine similarity for images not within the same class (the non-diagonal).\n",
    "\n",
    "But since our network is untrained, *you* will see there is not much difference, this is expected as the network is untrained. If you look at the plot, there is no clear structure to the similarities.\n"
   ]
  },
  {
   "cell_type": "code",
   "execution_count": null,
   "id": "0JcR1VwliL1f",
   "metadata": {
    "execution": {}
   },
   "outputs": [],
   "source": [
    "embeddings = {}\n",
    "for i in [0,1,2,3,4,5,6,7,8,9]:\n",
    "    embeddings[i] = test_embeddings_normed[test_labels==i]\n",
    "\n",
    "# Within class cosine similarity:\n",
    "for i in [0,1,2,3,4,5,6,7,8,9]:\n",
    "    sims = embeddings[i]@embeddings[i].T\n",
    "    np.fill_diagonal(sims, np.nan)\n",
    "    cur_sim = np.nanmean(sims)\n",
    "    sim_matrix[i,i] =  cur_sim\n",
    "\n",
    "    print(\"Within class {} cosine similarity\".format(cur_sim))\n",
    "\n",
    "print(\"==================\")\n",
    "for i in [0,1,2,3,4,5,6,7,8,9]:\n",
    "    for j in [0,1,2,3,4,5,6,7,8,9]:\n",
    "        if i==j:\n",
    "            pass\n",
    "        elif i>j:\n",
    "            pass\n",
    "        else:\n",
    "            sims = embeddings[i]@embeddings[j].T\n",
    "            cur_sim = np.mean(sims)\n",
    "            sim_matrix[i,j] =  cur_sim\n",
    "            sim_matrix[j,i] =  cur_sim\n",
    "            print(\"{} and {} cosine similarity {}\".format(i,j, np.nanmean(sims)))\n",
    "\n",
    "plt.imshow(sim_matrix, vmin=0.0, vmax=1.0)\n",
    "plt.title(\"untrained network\")\n",
    "plt.colorbar()"
   ]
  },
  {
   "cell_type": "markdown",
   "id": "iAScidA3iXpZ",
   "metadata": {
    "execution": {}
   },
   "source": [
    "Now we will train the network!\n",
    "\n",
    "Note how we decay the learning rate, so the final learning rate will be half that of the inital learning rate. AdamW is the Adam optimizer with decoupled weight decay. A learning rate of 3e-4 and a weight decay of 1e-2 in AdamW are pretty typical. Note that weight decay in AdamW and SGD work differently in the pytorch implementations. In pytorch, the adamw weight decay is further scaled by learning rate (real weight decay = weight decay * lr) but in SGD, it is not scaled by learning rate. So in AdamW, it is common to use higher weight decay values than SGD.\n",
    "\n",
    "Also note how we call `mynet.train()` before we start training. That sets mynet to training mode, and enables the buffers and dropout layers (if they were present in the network architecture.)"
   ]
  },
  {
   "cell_type": "code",
   "execution_count": null,
   "id": "d5b62ecc-c0c4-4b2e-8d93-ab4ea9a952d0",
   "metadata": {
    "execution": {}
   },
   "outputs": [],
   "source": [
    "epochs = 10\n",
    "# Automatically select the device\n",
    "device = torch.device(\"cuda\" if torch.cuda.is_available() else \"cpu\")\n",
    "\n",
    "# Output the device that will be used\n",
    "print(f\"Using device: {device}\")\n",
    "\n",
    "train_dset = torchvision.datasets.MNIST(\"./\", train=True, transform=mnist_transforms)\n",
    "train_loader = DataLoader(train_dset, batch_size=50, shuffle=True) # enable persistent_workers=True if more than 1 worker to save CPU\n",
    "\n",
    "try:\n",
    "    del optimizer\n",
    "    gc.collect()\n",
    "    torch.cuda.empty_cache()\n",
    "    # Nuke the optimizer from memory if students try re-running this block\n",
    "except:\n",
    "    pass\n",
    "\n",
    "try:\n",
    "    del mynet\n",
    "    gc.collect()\n",
    "    torch.cuda.empty_cache()\n",
    "    # Nuke the network from memory if students try re-running this block\n",
    "except:\n",
    "    pass\n",
    "\n",
    "mynet = Model(in_dim=784, out_dim=128, hidden_dim=256)\n",
    "_ = mynet.to(device)\n",
    "\n",
    "# This enables training mode, which may affect dropout and stuff\n",
    "mynet.train(mode=True)\n",
    "print(\"Is the network in training mode?\", mynet.training)\n",
    "init_lr = 3e-4\n",
    "lr_decay_factor = 0.5\n",
    "optimizer = torch.optim.AdamW(mynet.parameters(), lr=init_lr, weight_decay=1e-2)\n",
    "\n",
    "loss_tracker = []\n",
    "for epoch_id in range(1, epochs+1):\n",
    "    loss_epoch_tracker = 0\n",
    "    batch_counter = 0\n",
    "    # decay lr to half that of initial by the end of training\n",
    "    new_lrate = init_lr * (lr_decay_factor ** (epoch_id / epochs))\n",
    "    for param_group in optimizer.param_groups:\n",
    "        param_group['lr'] = new_lrate\n",
    "\n",
    "    batches_in_epoch = len(train_loader)\n",
    "    for data_batch in train_loader:\n",
    "        optimizer.zero_grad()\n",
    "        train_img, train_label = data_batch\n",
    "        batch_size = train_img.shape[0]\n",
    "        flat = train_img.reshape(batch_size,-1).to(device, non_blocking=True)\n",
    "        train_label = train_label.to(device, non_blocking=True)\n",
    "        predicted_results = mynet(flat)\n",
    "        # Now to compute loss\n",
    "        similarities = cos_sim(predicted_results)\n",
    "        label_pos_neg = get_all_pairs_indices(train_label)\n",
    "        final_loss = torch.mean(pair_based_loss(similarities, label_pos_neg, dcl_loss))\n",
    "\n",
    "        # Compute gradients from the loss to the parameters that require a gradient\n",
    "        final_loss.backward()\n",
    "\n",
    "        # Now we use the optimizer and the gradients to change the original parameters\n",
    "        optimizer.step()\n",
    "\n",
    "        # .item() converts the CUDA tensor to a single CPU scalar.\n",
    "        # Note this only works on tensors with a single value\n",
    "        # Avoid calling .item() too frequently, as it involves a GPU -> CPU transfer it is slow!\n",
    "        loss_cpu_number = final_loss.item()\n",
    "\n",
    "        # We keep track of the losses here\n",
    "        # This is just for human visualization, doesn't really affect training\n",
    "        loss_epoch_tracker+=loss_cpu_number\n",
    "        batch_counter +=1\n",
    "\n",
    "        # Every 500 batches, we print the current epoch, batches seen for the current epoch, and the current batch loss\n",
    "        if batch_counter%500 == 0:\n",
    "            print(\"Epoch {}, Batch {}/{}, loss: {}\".format(epoch_id, batch_counter, batches_in_epoch, loss_cpu_number))\n",
    "\n",
    "    # Every epoch we print out the average loss over the epoch\n",
    "    print(\"Epoch average loss {}\".format(loss_epoch_tracker/batch_counter))\n",
    "# Test mode"
   ]
  },
  {
   "cell_type": "markdown",
   "id": "uvQ4MdHKjY1t",
   "metadata": {
    "execution": {}
   },
   "source": [
    "Let us now extract the features from the trained network!\n",
    "\n",
    "Again, please make it a habit to set the network into eval mode."
   ]
  },
  {
   "cell_type": "code",
   "execution_count": null,
   "id": "4d4f11e3-07e8-4104-9ae4-6a9fd6f037eb",
   "metadata": {
    "execution": {}
   },
   "outputs": [],
   "source": [
    "test_loader = DataLoader(test_dset, batch_size=50, shuffle=False) # enable persistent_workers=True if more than 1 worker to save CPU\n",
    "mynet.eval()\n",
    "test_embeddings = []\n",
    "test_labels = []\n",
    "with torch.inference_mode():\n",
    "    for data_batch in test_loader:\n",
    "        test_img, test_label = data_batch\n",
    "        batch_size = test_img.shape[0]\n",
    "        flat = test_img.reshape(batch_size,-1).to(device, non_blocking=True)\n",
    "        pred_embeddings = mynet(flat).cpu().numpy().tolist()\n",
    "        test_embeddings.extend(pred_embeddings)\n",
    "        test_labels.extend(test_label.numpy().tolist())\n",
    "test_labels = np.array(test_labels)\n",
    "print(\"Feature extraction done!\")"
   ]
  },
  {
   "cell_type": "markdown",
   "id": "4GGxdeiWjkIr",
   "metadata": {
    "execution": {}
   },
   "source": [
    "As the network was trained using infoNCE, we will normalize each feature to unit norm. PCA further expects the features to be centered and 1 std."
   ]
  },
  {
   "cell_type": "code",
   "execution_count": null,
   "id": "767e0f93-3f68-4db0-9edf-4891a3858f63",
   "metadata": {
    "execution": {}
   },
   "outputs": [],
   "source": [
    "test_embeddings = np.array(test_embeddings)\n",
    "test_embeddings_normed = test_embeddings/np.linalg.norm(test_embeddings, axis=1, keepdims=True)\n",
    "test_embeddings_normed = test_embeddings_normed-np.mean(test_embeddings_normed, axis=1, keepdims=True)\n",
    "test_embeddings_normed = test_embeddings_normed/np.std(test_embeddings_normed, axis=1, keepdims=True)\n",
    "pca = PCA(n_components=2)\n",
    "pca_embeddings = pca.fit_transform(test_embeddings)"
   ]
  },
  {
   "cell_type": "markdown",
   "id": "8UXxSAmfjoB8",
   "metadata": {
    "execution": {}
   },
   "source": [
    "For TSNE, we just normalize each feature to unit norm due to infoNCE. We will not further center."
   ]
  },
  {
   "cell_type": "code",
   "execution_count": null,
   "id": "d4cdd26a-15c9-4c5f-82f7-4a65ca0bd5f7",
   "metadata": {
    "execution": {}
   },
   "outputs": [],
   "source": [
    "test_embeddings = np.array(test_embeddings)\n",
    "test_embeddings_normed = test_embeddings/np.linalg.norm(test_embeddings, axis=1, keepdims=True)\n",
    "tsne = TSNE(n_components=2)\n",
    "tsne_embeddings = tsne.fit_transform(test_embeddings)\n",
    "# This takes like a minute, go grab a coffee or something"
   ]
  },
  {
   "cell_type": "code",
   "execution_count": null,
   "id": "c8de073f-d514-4156-98e2-d7aac5620ca6",
   "metadata": {
    "execution": {}
   },
   "outputs": [],
   "source": [
    "test_labels.shape, tsne_embeddings.shape"
   ]
  },
  {
   "cell_type": "markdown",
   "id": "eqJJWmx7j1kF",
   "metadata": {
    "execution": {}
   },
   "source": [
    "Look at how the features for each number are distributed! Note how well separated all the embeddings for different characters are."
   ]
  },
  {
   "cell_type": "code",
   "execution_count": null,
   "id": "2afe3c0d-7eed-4b2b-bdaa-bb258fc92d10",
   "metadata": {
    "execution": {}
   },
   "outputs": [],
   "source": [
    "my_embeddings = tsne_embeddings\n",
    "# TSNE or PCA? TSNE is nicer to look at.\n",
    "\n",
    "num = 0\n",
    "plt.scatter(my_embeddings[test_labels==num, 0], my_embeddings[test_labels==num, 1], c=\"red\")\n",
    "num = 1\n",
    "plt.scatter(my_embeddings[test_labels==num, 0], my_embeddings[test_labels==num, 1], c=\"green\")\n",
    "num = 2\n",
    "plt.scatter(my_embeddings[test_labels==num, 0], my_embeddings[test_labels==num, 1], c=\"blue\")\n",
    "num = 3\n",
    "plt.scatter(my_embeddings[test_labels==num, 0], my_embeddings[test_labels==num, 1], c=\"orange\")"
   ]
  },
  {
   "cell_type": "markdown",
   "id": "d0KXB1wpmMp1",
   "metadata": {
    "execution": {}
   },
   "source": [
    "### Visualizing the cosine similarity AFTER training\n",
    "\n",
    "Note now that diagonal is strongly more positive than the off-diagonal, this means within the same class, the similarity is much stronger than outside a class.\n"
   ]
  },
  {
   "cell_type": "code",
   "execution_count": null,
   "id": "e88a8b40-faa7-4071-b070-0ca192e06d55",
   "metadata": {
    "execution": {}
   },
   "outputs": [],
   "source": [
    "test_loader = DataLoader(test_dset, batch_size=50, shuffle=False) # enable persistent_workers=True if more than 1 worker to save CPU\n",
    "mynet.eval()\n",
    "test_embeddings = []\n",
    "test_labels = []\n",
    "sim_matrix = np.zeros((10,10))\n",
    "with torch.inference_mode():\n",
    "    for data_batch in test_loader:\n",
    "        test_img, test_label = data_batch\n",
    "        batch_size = test_img.shape[0]\n",
    "        flat = test_img.reshape(batch_size,-1).to(device, non_blocking=True)\n",
    "        pred_embeddings = mynet(flat).cpu().numpy().tolist()\n",
    "        test_embeddings.extend(pred_embeddings)\n",
    "        test_labels.extend(test_label.numpy().tolist())\n",
    "\n",
    "test_embeddings = np.array(test_embeddings)\n",
    "test_embeddings_normed = test_embeddings/np.linalg.norm(test_embeddings, axis=1, keepdims=True)\n",
    "test_labels = np.array(test_labels)\n",
    "embeddings = {}\n",
    "for i in [0,1,2,3,4,5,6,7,8,9]:\n",
    "    embeddings[i] =test_embeddings_normed[test_labels==i]\n",
    "\n",
    "\n",
    "\n",
    "# Within class cosine similarity:\n",
    "for i in [0,1,2,3,4,5,6,7,8,9]:\n",
    "    sims = embeddings[i]@embeddings[i].T\n",
    "    np.fill_diagonal(sims, np.nan)\n",
    "    cur_sim = np.nanmean(sims)\n",
    "    sim_matrix[i,i] =  cur_sim\n",
    "\n",
    "    print(\"Within class {} cosine similarity\".format(cur_sim))\n",
    "\n",
    "print(\"==================\")\n",
    "for i in [0,1,2,3,4,5,6,7,8,9]:\n",
    "    for j in [0,1,2,3,4,5,6,7,8,9]:\n",
    "        if i==j:\n",
    "            pass\n",
    "        elif i>j:\n",
    "            pass\n",
    "        else:\n",
    "            sims = embeddings[i]@embeddings[j].T\n",
    "            cur_sim = np.mean(sims)\n",
    "            sim_matrix[i,j] =  cur_sim\n",
    "            sim_matrix[j,i] =  cur_sim\n",
    "            print(\"{} and {} cosine similarity {}\".format(i,j, np.nanmean(sims)))\n",
    "plt.imshow(sim_matrix, vmin=0.0, vmax=1.0)\n",
    "plt.title(\"trained network\")\n",
    "plt.colorbar()"
   ]
  },
  {
   "cell_type": "markdown",
   "id": "a8wRjpsrmva7",
   "metadata": {
    "execution": {}
   },
   "source": [
    "### Using the network to identify nearest neighbors in the test set.\n",
    "\n",
    "But how do people actually use a contrastive learned network? In Person Re-ID (reidentification), you will use a network to compute the embeddings for two images, and check if the embeddings have cosine/euclidean similarity above some threshold to decide if they are the same person.\n",
    "\n",
    "In foundation model training (CLIP), people typically fine tune the entire network or train a linear probe or small network on the last layer outputs.\n",
    "\n",
    "Here, we will follow the person Re-ID setup, and try to find the most similar image in a test set and decide if they represent the same character!"
   ]
  },
  {
   "cell_type": "code",
   "execution_count": null,
   "id": "013D0NbXowjj",
   "metadata": {
    "execution": {}
   },
   "outputs": [],
   "source": [
    "sims_all = test_embeddings_normed@test_embeddings_normed.T\n",
    "np.fill_diagonal(sims_all, -1000.0)\n",
    "# Set to a small value so it doesn't give us the same number for argmax\n",
    "\n",
    "idx_to_check = 3029\n",
    "best_idx = np.argmax(sims_all[idx_to_check])\n",
    "\n",
    "plt.imshow(test_dset[idx_to_check][0][0].cpu().numpy())\n",
    "plt.show()\n",
    "plt.imshow(test_dset[best_idx][0][0].cpu().numpy())\n",
    "plt.show()"
   ]
  },
  {
   "cell_type": "markdown",
   "id": "8444cc4a-fd26-471c-ac34-7e515dbe946a",
   "metadata": {
    "execution": {}
   },
   "source": [
    "### How is contrastive learning used in practice?\n",
    "\n",
    "Nearly all vision foundation models (DINO and DINOv2, CLIP and all CLIP derivatives including OpenCLIP/EVA-CLIP) are trained using contrastive losses. DINO/v2 is trained on images alone, while CLIP is trained on a combination of images and text.\n",
    "\n",
    "When only images are used, the contrastive learning loss is applied to augmentations of the same image. Examples include crops/flips/rotations of images -- when used in the way, the augmentations are called a \"pretext task\". Typically, augmentations of the same image are treated as instances where the embeddings should be the same. So for example, a network should recognize a photo of you, and a photo of you flipped (or brightness changed, or noise added, or changed to black and white) as a photo of the same person.\n",
    "\n",
    "When images and text are used together as in CLIP, you have images and captions of those images -- for example the caption \"A photo of a dog\" may be matched to a picture of a blue heeler puppy. These captions are typicalled scraped from online sources, and collected into datasets like LAION-2B/COYO-700M/CommonCrawl. While these captions are typically not high quality, having billions of them do seem to mitigate this issue. When contrastive learning is used in this case, typically a dual encoder is used -- one for text, and one for the image. The network is trained using a loss which minimizes the distance between the correct text and image pair, while distances between incorrect text and image pairs are maximized. For example -- the caption \"A photo of a dog\" and the picture of the blue heeler puppy should have embeddings that are close, while the caption should be far away from a picture of a cat. Often times, normalized dot-product (cosine similarity), angular distance (Universal Sentence Encoder) euclidean distance, or squared euclidean distance are applied to compute the \"distance\" of the embeddings.\n",
    "\n",
    "\n",
    "Referencess:\n",
    "\n",
    "[1] Unsupervised feature learning via non-parametric\n",
    "instance discrimination (2018)\n",
    "\n",
    "[2] Representation learning with contrastive predictive coding (2018)\n",
    "\n",
    "[3] A simple framework for contrastive learning of visual representations (2020)\n",
    "\n",
    "[4] Improved Deep Metric Learning with Multi-class N-pair Loss Objective (2016)\n",
    "\n",
    "[4] Noise-contrastive estimation: A new estimation principle for unnormalize\n",
    "statistical models (2010)"
   ]
  }
 ],
 "metadata": {
  "accelerator": "GPU",
  "colab": {
   "collapsed_sections": [],
   "gpuType": "T4",
   "include_colab_link": true,
   "name": "W1D2_Tutorial2",
   "provenance": [],
   "toc_visible": true
  },
  "kernel": {
   "display_name": "Python 3",
   "language": "python",
   "name": "python3"
  },
  "kernelspec": {
   "display_name": "Python 3 (ipykernel)",
   "language": "python",
   "name": "python3"
  },
  "language_info": {
   "codemirror_mode": {
    "name": "ipython",
    "version": 3
   },
   "file_extension": ".py",
   "mimetype": "text/x-python",
   "name": "python",
   "nbconvert_exporter": "python",
   "pygments_lexer": "ipython3",
   "version": "3.9.19"
  }
 },
 "nbformat": 4,
 "nbformat_minor": 5
}